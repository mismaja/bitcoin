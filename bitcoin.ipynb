{
 "metadata": {
  "language_info": {
   "codemirror_mode": {
    "name": "ipython",
    "version": 3
   },
   "file_extension": ".py",
   "mimetype": "text/x-python",
   "name": "python",
   "nbconvert_exporter": "python",
   "pygments_lexer": "ipython3",
   "version": "3.6.6-final"
  },
  "orig_nbformat": 2,
  "kernelspec": {
   "name": "python3",
   "display_name": "Python 3",
   "language": "python"
  }
 },
 "nbformat": 4,
 "nbformat_minor": 2,
 "cells": [
  {
   "cell_type": "code",
   "execution_count": null,
   "metadata": {},
   "outputs": [],
   "source": [
    "import pandas as pd\n",
    "import numpy as np\n",
    "from alpha_vantage.cryptocurrencies import CryptoCurrencies\n",
    "from sklearn.preprocessing import StandardScaler\n",
    "from sklearn.utils import shuffle\n",
    "import tensorflow as tf\n",
    "from tensorflow.keras.models import Model\n",
    "from tensorflow.keras.layers import Input, Dense\n",
    "\n",
    "AlphaVantage_api_key = \"INSERT-YOUR-API-KEY-HERE\"\n",
    "cc = CryptoCurrencies(key=AlphaVantage_api_key, output_format='pandas')\n",
    "\n",
    "# get data\n",
    "df, meta_data = cc.get_digital_currency_daily(symbol='BTC', market='USD')\n",
    "\n",
    "# prep column names, index etc.\n",
    "cols = ['1a. open (USD)', '2a. high (USD)', '3a. low (USD)', '4a. close (USD)', '5. volume']\n",
    "df.index = pd.to_datetime(df.index)\n",
    "df = df[cols].sort_index()\n",
    "df.columns = ['open', 'high', 'low', 'close', 'vol']\n",
    "\n",
    "display(meta_data)"
   ]
  },
  {
   "cell_type": "code",
   "execution_count": null,
   "metadata": {},
   "outputs": [],
   "source": [
    "df.describe().transpose()"
   ]
  },
  {
   "cell_type": "code",
   "execution_count": null,
   "metadata": {},
   "outputs": [],
   "source": [
    "df[['close', 'vol']].plot(subplots=True, layout=(2,1))"
   ]
  },
  {
   "cell_type": "code",
   "execution_count": null,
   "metadata": {},
   "outputs": [],
   "source": [
    "# (1) dane stacjonarne\n",
    "df_pct = df.pct_change()[1:]\n",
    "\n",
    "# (2) Y\n",
    "y = df['close'].pct_change().shift(periods=-1).fillna(0)[1:]\n",
    "\n",
    "# (3) Podzial TRAIN/TEST\n",
    "test_beg = '2020-12-30'\n",
    "\n",
    "# podzial train/test\n",
    "train_mask = df_pct.index<test_beg\n",
    "test_mask = df_pct.index>=test_beg\n",
    "\n",
    "cols = list(df.columns)\n",
    "#cols = ['open', 'high', 'low', 'close', 'vol']\n",
    "\n",
    "x_train = df_pct[cols][train_mask].astype(float)\n",
    "x_test = df_pct[cols][test_mask].astype(float)\n",
    "\n",
    "y_train = y[train_mask].astype(float)\n",
    "y_test = y[test_mask].astype(float)\n",
    "\n",
    "assert(len(x_train)==len(y_train))\n",
    "assert(len(x_test)==len(y_test))\n",
    "\n",
    "# (4) Normalizacja\n",
    "scaler_df = StandardScaler() \n",
    "\n",
    "#budujuemy scaler na danych TRAIN only\n",
    "scaler_df.fit_transform(x_train)\n",
    "\n",
    "#aplikujemy skaler na dane\n",
    "x_train = scaler_df.transform(x_train)\n",
    "x_test = scaler_df.transform(x_test)\n",
    "\n",
    "# (5) Mieszanie próbek TRAIN\n",
    "x_train, y_train = shuffle(x_train, y_train, random_state=0)"
   ]
  },
  {
   "cell_type": "code",
   "execution_count": null,
   "metadata": {},
   "outputs": [],
   "source": [
    "# (6) Uczenie sieci na danych TRAIN\n",
    "def my_model(feat):\n",
    "    \n",
    "    x_input = Input(shape = (feat,))\n",
    "    x = Dense(20, name='hidden')(x_input)\n",
    "    x_output = Dense(1, activation='linear', name='out')(x)\n",
    "\n",
    "    model = Model(inputs = x_input, outputs = x_output, name='way2becomefcknrich_btc')\n",
    "    \n",
    "    return model\n",
    "\n",
    "#num features\n",
    "feat = np.shape(x_train)[1]\n",
    "\n",
    "model = my_model(feat)\n",
    "model.compile(loss='mean_squared_error')\n",
    "model.summary()\n",
    "\n",
    "model.fit(x_train, y_train, epochs=100)"
   ]
  },
  {
   "cell_type": "code",
   "execution_count": null,
   "metadata": {},
   "outputs": [],
   "source": [
    "# (7) Predykcja dla TEST\n",
    "y_predicted = model.predict(x_test)\n",
    "\n",
    "df_pred = pd.concat([y_test, pd.DataFrame(y_predicted, index=y_test.index, columns=['prediction'])], axis=1)\n",
    "df_pred[df_pred.index>'2021-01-01'].plot(grid=True)\n",
    "\n",
    "# (8) Wypłata zarobionej gotówki\n",
    "mask = np.sign(df_pred['close']) == np.sign(df_pred['prediction'])\n",
    "\n",
    "acc = np.sum(mask) / len(df_pred)\n",
    "trans_positive = df_pred['close'][mask].abs()\n",
    "trans_loss = df_pred['close'][~mask].abs()\n",
    "\n",
    "print('accuracy:%.2f%% trans_positive:%.2f%% trans_loss:%.2f%%' %(100*acc, 100*trans_positive.sum(), 100*trans_loss.sum()))\n",
    "print('zarobek netto:%.2f%%\\n\\n' %(100*trans_positive.sum() - 100*trans_loss.sum()))"
   ]
  },
  {
   "source": [
    "Dodanie danych ACB / Aurora Cannabis"
   ],
   "cell_type": "markdown",
   "metadata": {}
  },
  {
   "cell_type": "code",
   "execution_count": null,
   "metadata": {},
   "outputs": [],
   "source": [
    "from alpha_vantage.timeseries import TimeSeries\n",
    "\n",
    "# get data\n",
    "ts = TimeSeries(key=AlphaVantage_api_key, output_format='pandas')\n",
    "df_acb, meta_data = ts.get_daily(symbol='ACB', outputsize='full')\n",
    "\n",
    "# prep column names, index etc.\n",
    "df_acb.columns = ['open_acb', 'high_acb', 'low_acb', 'close_acb', 'vol_acb']\n",
    "df_acb.index = pd.to_datetime(df_acb.index)\n",
    "df_acb.sort_index(inplace=True)"
   ]
  },
  {
   "cell_type": "code",
   "execution_count": null,
   "metadata": {},
   "outputs": [],
   "source": [
    "# concatenate\n",
    "df_new = pd.concat([df, df_acb], axis=1)\n",
    "df_new.dropna(subset=['open'], inplace=True)\n",
    "df_new.fillna(method='ffill', inplace=True)"
   ]
  },
  {
   "cell_type": "code",
   "execution_count": null,
   "metadata": {},
   "outputs": [],
   "source": [
    "df_new.describe().transpose()"
   ]
  },
  {
   "cell_type": "code",
   "execution_count": null,
   "metadata": {},
   "outputs": [],
   "source": [
    "import matplotlib.pyplot as plt\n",
    "plt.hist2d(df_new['close'], df_new['close_acb'], bins=(20, 20))\n",
    "plt.colorbar()\n",
    "plt.xlabel('BTCUSD')\n",
    "plt.ylabel('Cannabis')"
   ]
  },
  {
   "cell_type": "code",
   "execution_count": null,
   "metadata": {},
   "outputs": [],
   "source": [
    "# (1) dane stacjonarne\n",
    "df_newpct = df_new.pct_change()[1:]\n",
    "\n",
    "# (2) Y\n",
    "y = df_new['close'].pct_change().shift(periods=-1).fillna(0)[1:]\n",
    "\n",
    "# (3) Podzial TRAIN/TEST\n",
    "test_beg = '2020-12-30'\n",
    "\n",
    "# podzial train/test\n",
    "train_mask = df_newpct.index<test_beg\n",
    "test_mask = df_newpct.index>=test_beg\n",
    "\n",
    "cols = list(df_new.columns)\n",
    "#cols = ['open', 'high', 'low', 'close', 'vol']\n",
    "\n",
    "x_train = df_newpct[cols][train_mask].astype(float)\n",
    "x_test = df_newpct[cols][test_mask].astype(float)\n",
    "\n",
    "y_train = y[train_mask].astype(float)\n",
    "y_test = y[test_mask].astype(float)\n",
    "\n",
    "assert(len(x_train)==len(y_train))\n",
    "assert(len(x_test)==len(y_test))\n",
    "\n",
    "# (4) Normalizacja\n",
    "scaler_df = StandardScaler() \n",
    "\n",
    "#budujuemy scaler na danych TRAIN only\n",
    "scaler_df.fit_transform(x_train)\n",
    "\n",
    "#aplikujemy skaler na dane\n",
    "x_train = scaler_df.transform(x_train)\n",
    "x_test = scaler_df.transform(x_test)\n",
    "\n",
    "# (5) Mieszanie próbek TRAIN\n",
    "x_train, y_train = shuffle(x_train, y_train, random_state=0)"
   ]
  },
  {
   "cell_type": "code",
   "execution_count": null,
   "metadata": {},
   "outputs": [],
   "source": [
    "df_newpct.describe().transpose()"
   ]
  },
  {
   "cell_type": "code",
   "execution_count": null,
   "metadata": {},
   "outputs": [],
   "source": [
    "df_newpct[['open_acb','high_acb','low_acb','close_acb']][df_newpct.index=='2020-05-11']"
   ]
  },
  {
   "cell_type": "code",
   "execution_count": null,
   "metadata": {},
   "outputs": [],
   "source": [
    "#korekcja reverse split 1:12\n",
    "for col in ['open_acb','high_acb','low_acb','close_acb']:\n",
    "    df_newpct.loc[df_newpct.index=='2020-05-11', col] = (df_newpct.loc[df_newpct.index=='2020-05-11', col] -11 ) / 12\n",
    "df_newpct[['open_acb','high_acb','low_acb','close_acb']][df_newpct.index=='2020-05-11']"
   ]
  },
  {
   "cell_type": "code",
   "execution_count": null,
   "metadata": {},
   "outputs": [],
   "source": [
    "plt.hist2d(x_train[:,3], x_train[:,8], bins=(20, 20), range=[[-1,1],[-0.2,0.2]])\n",
    "plt.colorbar()\n",
    "plt.xlabel('BTCUSD')\n",
    "plt.ylabel('Cannabis')"
   ]
  },
  {
   "cell_type": "code",
   "execution_count": null,
   "metadata": {},
   "outputs": [],
   "source": [
    "#num features\n",
    "feat = np.shape(x_train)[1]\n",
    "\n",
    "model = my_model(feat)\n",
    "model.compile(loss='mean_squared_error')\n",
    "model.summary()\n",
    "\n",
    "model.fit(x_train, y_train, epochs=20)"
   ]
  },
  {
   "cell_type": "code",
   "execution_count": null,
   "metadata": {},
   "outputs": [],
   "source": [
    "# (7) Predykcja dla TEST\n",
    "y_predicted = model.predict(x_test)\n",
    "\n",
    "df_pred = pd.concat([y_test, pd.DataFrame(y_predicted, index=y_test.index, columns=['prediction'])], axis=1)\n",
    "df_pred[df_pred.index>'2021-01-01'].plot(grid=True)\n",
    "\n",
    "# (8) Wypłata zarobionej gotówki\n",
    "mask = np.sign(df_pred['close']) == np.sign(df_pred['prediction'])\n",
    "\n",
    "acc = np.sum(mask) / len(df_pred)\n",
    "trans_positive = df_pred['close'][mask].abs()\n",
    "trans_loss = df_pred['close'][~mask].abs()\n",
    "\n",
    "print('accuracy:%.2f%% trans_positive:%.2f%% trans_loss:%.2f%%' %(100*acc, 100*trans_positive.sum(), 100*trans_loss.sum()))\n",
    "print('zarobek netto:%.2f%%\\n\\n' %(100*trans_positive.sum() - 100*trans_loss.sum()))"
   ]
  }
 ]
}